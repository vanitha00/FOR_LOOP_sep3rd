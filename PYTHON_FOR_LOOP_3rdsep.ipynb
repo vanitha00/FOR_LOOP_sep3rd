{
 "cells": [
  {
   "cell_type": "markdown",
   "metadata": {},
   "source": [
    "Basic Level:\n",
    "1. Write a Python program to print the numbers from 1 to 10 using a `for` loop.\n",
    "\n",
    "2. Create a program that calculates the sum of all numbers in a list using a `for` loop.\n",
    "\n",
    "3. Write a program to print the characters of a string in reverse order using a `for` loop.\n",
    "\n",
    "4. Develop a program that finds the factorial of a given number using a `for` loop.\n",
    "\n",
    "5. Create a program to print the multiplication table of a given number using a `for` loop.\n",
    "\n",
    "6. Write a program that counts the number of even and odd numbers in a list using a `for` loop.\n",
    "\n",
    "7. Develop a program that prints the squares of numbers from 1 to 5 using a `for` loop.\n",
    "\n",
    "8. Create a program to find the length of a string without using the `len()` function.\n",
    "\n",
    "9. Write a program that calculates the average of a list of numbers using a `for` loop.\n",
    "\n",
    "10. Develop a program that prints the first `n` Fibonacci numbers using a `for` loop."
   ]
  },
  {
   "cell_type": "code",
   "execution_count": 1,
   "metadata": {},
   "outputs": [
    {
     "name": "stdout",
     "output_type": "stream",
     "text": [
      "1\n",
      "2\n",
      "3\n",
      "4\n",
      "5\n",
      "6\n",
      "7\n",
      "8\n",
      "9\n",
      "10\n"
     ]
    }
   ],
   "source": [
    "for i in range(1,11):   #range from 1 to 10\n",
    "    print(i)   #displaying"
   ]
  },
  {
   "cell_type": "code",
   "execution_count": 3,
   "metadata": {},
   "outputs": [
    {
     "name": "stdout",
     "output_type": "stream",
     "text": [
      "sum of all numbers in a list: 31\n",
      "31\n"
     ]
    }
   ],
   "source": [
    "#taking numbers in a list\n",
    "list_num=[1,2,3,4,6,7,8]\n",
    "sum=0   #initializing sum with 0\n",
    "for i in list_num:  # Iterating all numbers in a list\n",
    "    sum=sum+i    # adding all numbers\n",
    "print('sum of all numbers in a list:',sum)\n",
    "#print(1+2+3+4+6+7+8)"
   ]
  },
  {
   "cell_type": "code",
   "execution_count": 4,
   "metadata": {},
   "outputs": [
    {
     "name": "stdout",
     "output_type": "stream",
     "text": [
      "reversing string: ahtinav\n"
     ]
    }
   ],
   "source": [
    "string='vanitha'   #string \n",
    "rev_str=''      #empty string to store string in reverse\n",
    "for i in string:   #iterating over string\n",
    "    rev_str=i+rev_str\n",
    "print('reversing string:',rev_str)"
   ]
  },
  {
   "cell_type": "code",
   "execution_count": 5,
   "metadata": {},
   "outputs": [
    {
     "name": "stdout",
     "output_type": "stream",
     "text": [
      "enter a number:5\n",
      "factorial of given number: 120\n"
     ]
    }
   ],
   "source": [
    "num=int(input('enter a number:'))  #taking input from user\n",
    "fact=1\n",
    "for i in range(1,num+1):   #1 to number\n",
    "    fact=fact*i\n",
    "print('factorial of given number:',fact)"
   ]
  },
  {
   "cell_type": "code",
   "execution_count": 8,
   "metadata": {},
   "outputs": [
    {
     "name": "stdout",
     "output_type": "stream",
     "text": [
      "enter a number to generate mutiplication table upto 10:12\n",
      "12 * 1 = 12\n",
      "12 * 2 = 24\n",
      "12 * 3 = 36\n",
      "12 * 4 = 48\n",
      "12 * 5 = 60\n",
      "12 * 6 = 72\n",
      "12 * 7 = 84\n",
      "12 * 8 = 96\n",
      "12 * 9 = 108\n",
      "12 * 10 = 120\n"
     ]
    }
   ],
   "source": [
    "number=int(input('enter a number to generate mutiplication table upto 10:'))\n",
    "for i in range(1,11):\n",
    "    print(number,\"*\",i,\"=\",number*i)\n"
   ]
  },
  {
   "cell_type": "code",
   "execution_count": 13,
   "metadata": {},
   "outputs": [
    {
     "name": "stdout",
     "output_type": "stream",
     "text": [
      "Number of Even numbers in list: 7\n",
      "Number Of odd numbers in list: 5\n"
     ]
    }
   ],
   "source": [
    "list_sep=[1,2,3,4,5,6,7,8,9,10,56,78]\n",
    "count_e=0\n",
    "count_o=0\n",
    "for i in list_sep:\n",
    "    if i%2==0:\n",
    "        count_e+=1\n",
    "    else:\n",
    "        count_o+=1\n",
    "print('Number of Even numbers in list:',count_e)\n",
    "print('Number Of odd numbers in list:',count_o)"
   ]
  },
  {
   "cell_type": "code",
   "execution_count": 18,
   "metadata": {},
   "outputs": [
    {
     "name": "stdout",
     "output_type": "stream",
     "text": [
      "square of 1= 1\n",
      "square of 2= 4\n",
      "square of 3= 9\n",
      "square of 4= 16\n",
      "square of 5= 25\n"
     ]
    }
   ],
   "source": [
    "for i in range(1,6):  #taking numbers from 1 t0 5\n",
    "    print(f'square of {i}=',i*i)"
   ]
  },
  {
   "cell_type": "code",
   "execution_count": 20,
   "metadata": {},
   "outputs": [
    {
     "name": "stdout",
     "output_type": "stream",
     "text": [
      "enter a string:datascience pro\n",
      "length of string: 15\n"
     ]
    }
   ],
   "source": [
    "string=input('enter a string:')\n",
    "count=0\n",
    "for i in string:\n",
    "    count=count+1\n",
    "print('length of string:',count)"
   ]
  },
  {
   "cell_type": "code",
   "execution_count": 25,
   "metadata": {},
   "outputs": [
    {
     "name": "stdout",
     "output_type": "stream",
     "text": [
      "Average of list_avg: 4\n"
     ]
    }
   ],
   "source": [
    "list_avg=[1,2,3,4,4,5,6,6,7]\n",
    "sum=0\n",
    "for i in list_avg:\n",
    "    sum=sum+i\n",
    "print('Average of list_avg:',sum//len(list_avg))"
   ]
  },
  {
   "cell_type": "code",
   "execution_count": 30,
   "metadata": {},
   "outputs": [
    {
     "name": "stdout",
     "output_type": "stream",
     "text": [
      "enter a number:10\n",
      "0\n",
      "1\n",
      "1\n",
      "2\n",
      "3\n",
      "5\n",
      "8\n",
      "13\n",
      "21\n",
      "34\n"
     ]
    }
   ],
   "source": [
    "number=int(input('enter a number:')) #taking input from user\n",
    "a = 0\n",
    "b = 1\n",
    "if number== 1:\n",
    "    print(a)\n",
    "else:\n",
    "    print(a)\n",
    "    print(b)\n",
    "    for i in range(2,number):\n",
    "        c = a + b\n",
    "        a = b\n",
    "        b = c\n",
    "        print(c)\n"
   ]
  },
  {
   "cell_type": "markdown",
   "metadata": {},
   "source": [
    "Intermediate Level:\n",
    "11. Write a program to check if a given list contains any duplicates using a `for` loop.\n",
    "\n",
    "12. Create a program that prints the prime numbers in a given range using a `for` loop.\n",
    "\n",
    "13. Develop a program that counts the number of vowels in a string using a `for` loop.\n",
    "\n",
    "14. Write a program to find the maximum element in a 2D list using a nested `for` loop.\n",
    "\n",
    "15. Create a program that removes all occurrences of a specific element from a list using a `for` loop.\n",
    "\n",
    "16. Develop a program that generates a multiplication table for numbers from 1 to 5 using a nested `for` loop.\n",
    "\n",
    "17. Write a program that converts a list of Fahrenheit temperatures to Celsius using a `for` loop.\n",
    "\n",
    "18. Create a program to print the common elements from two lists using a `for` loop.\n",
    "\n",
    "19. Develop a program that prints the pattern of right-angled triangles using a `for` loop. Use ‘*’ to draw the\n",
    "pattern\n",
    "\n",
    "20. Write a program to find the greatest common divisor (GCD) of two numbers using a `for` loop"
   ]
  },
  {
   "cell_type": "code",
   "execution_count": 37,
   "metadata": {},
   "outputs": [
    {
     "name": "stdout",
     "output_type": "stream",
     "text": [
      "list contains duplicate values\n",
      "pwskills\n"
     ]
    }
   ],
   "source": [
    "list1=['vanitha','pwskills','datascience','pwskills','sudhanshu sir']  #list wirh some values\n",
    "list2=[]\n",
    "for i in list1:\n",
    "    if i not in list2:  #checking elements \n",
    "        list2.append(i) #only ones a element is append\n",
    "    else:\n",
    "        print('list contains duplicate values')   #the elements are already in lists2 then we can display another element as duplicate\n",
    "        print(i)"
   ]
  },
  {
   "cell_type": "code",
   "execution_count": 1,
   "metadata": {},
   "outputs": [
    {
     "name": "stdout",
     "output_type": "stream",
     "text": [
      "Prime numbers between 10 and 50 are:\n",
      "11\n",
      "13\n",
      "17\n",
      "19\n",
      "23\n",
      "29\n",
      "31\n",
      "37\n",
      "41\n",
      "43\n",
      "47\n"
     ]
    }
   ],
   "source": [
    "lower = 10\n",
    "upper = 50\n",
    "print(\"Prime numbers between\", lower, \"and\", upper, \"are:\")\n",
    "for num in range(lower, upper + 1):\n",
    "   # all prime numbers are greater than 1\n",
    "   if num > 1:\n",
    "        for i in range(2, num):\n",
    "            if (num % i) == 0:\n",
    "                break\n",
    "        else:\n",
    "            print(num)"
   ]
  },
  {
   "cell_type": "code",
   "execution_count": 39,
   "metadata": {},
   "outputs": [
    {
     "name": "stdout",
     "output_type": "stream",
     "text": [
      "7 number of vowels are presented in given string\n"
     ]
    }
   ],
   "source": [
    "string='Datascience pro batch'\n",
    "count=0\n",
    "for i in string:\n",
    "    if i in ['a','e','i','o','u','A','E','I','O','U']:\n",
    "        count+=1\n",
    "print(count,'number of vowels are presented in given string')"
   ]
  },
  {
   "cell_type": "code",
   "execution_count": 5,
   "metadata": {},
   "outputs": [
    {
     "name": "stdout",
     "output_type": "stream",
     "text": [
      "enter a number of rows:3\n",
      "enter number of columns:3\n",
      "enter the elements for matrix:\n",
      "1\n",
      "2\n",
      "3\n",
      "4\n",
      "5\n",
      "6\n",
      "7\n",
      "1\n",
      "2\n",
      "1  2  3  \n",
      "4  5  6  \n",
      "7  1  2  \n",
      "maximum element is 7\n"
     ]
    }
   ],
   "source": [
    "row=int(input('enter a number of rows:'))  #taking number of rows\n",
    "columns=int(input('enter number of columns:'))  #taking number of columns\n",
    "print('enter the elements for matrix:') \n",
    "matrix=[[int(input()) for i in range(columns)] for j in range(row)] #taking all elements\n",
    "for i in range(row):\n",
    "    for j in range(columns):\n",
    "        print(format(matrix[i][j],'<3'),end='')  #displaying matrix\n",
    "    print()\n",
    "max_element=0  #initially max is 0\n",
    "for i in range(row):\n",
    "    for j in range(columns):\n",
    "        if matrix[i][j]>max_element:  #checking condition\n",
    "            max_element=matrix[i][j]\n",
    "print(\"maximum element is\",max_element)"
   ]
  },
  {
   "cell_type": "code",
   "execution_count": 10,
   "metadata": {},
   "outputs": [
    {
     "name": "stdout",
     "output_type": "stream",
     "text": [
      "['datascience', 'pro', 'datascience', 'pwskills', 'difficult']\n"
     ]
    }
   ],
   "source": [
    "list1=['datascience','pro','datascience','pwskills','difficult','difficult','difficult']\n",
    "specific_ele='difficult'\n",
    "for i in list1:\n",
    "    if i==specific_ele:\n",
    "        list1.remove(specific_ele)\n",
    "print(list1)"
   ]
  },
  {
   "cell_type": "code",
   "execution_count": 12,
   "metadata": {},
   "outputs": [
    {
     "name": "stdout",
     "output_type": "stream",
     "text": [
      "The Multiplication Table of:  1\n",
      "1 x 1 = 1\n",
      "1 x 2 = 2\n",
      "1 x 3 = 3\n",
      "1 x 4 = 4\n",
      "1 x 5 = 5\n",
      "1 x 6 = 6\n",
      "1 x 7 = 7\n",
      "1 x 8 = 8\n",
      "1 x 9 = 9\n",
      "1 x 10 = 10\n",
      "The Multiplication Table of:  2\n",
      "2 x 1 = 2\n",
      "2 x 2 = 4\n",
      "2 x 3 = 6\n",
      "2 x 4 = 8\n",
      "2 x 5 = 10\n",
      "2 x 6 = 12\n",
      "2 x 7 = 14\n",
      "2 x 8 = 16\n",
      "2 x 9 = 18\n",
      "2 x 10 = 20\n",
      "The Multiplication Table of:  3\n",
      "3 x 1 = 3\n",
      "3 x 2 = 6\n",
      "3 x 3 = 9\n",
      "3 x 4 = 12\n",
      "3 x 5 = 15\n",
      "3 x 6 = 18\n",
      "3 x 7 = 21\n",
      "3 x 8 = 24\n",
      "3 x 9 = 27\n",
      "3 x 10 = 30\n",
      "The Multiplication Table of:  4\n",
      "4 x 1 = 4\n",
      "4 x 2 = 8\n",
      "4 x 3 = 12\n",
      "4 x 4 = 16\n",
      "4 x 5 = 20\n",
      "4 x 6 = 24\n",
      "4 x 7 = 28\n",
      "4 x 8 = 32\n",
      "4 x 9 = 36\n",
      "4 x 10 = 40\n",
      "The Multiplication Table of:  5\n",
      "5 x 1 = 5\n",
      "5 x 2 = 10\n",
      "5 x 3 = 15\n",
      "5 x 4 = 20\n",
      "5 x 5 = 25\n",
      "5 x 6 = 30\n",
      "5 x 7 = 35\n",
      "5 x 8 = 40\n",
      "5 x 9 = 45\n",
      "5 x 10 = 50\n"
     ]
    }
   ],
   "source": [
    "for i in range(1,6): #1 to 5 mutiplication table\n",
    "    print (\"The Multiplication Table of: \",i)\n",
    "    for count in range(1, 11):\n",
    "        print (i, 'x', count, '=',i* count)    "
   ]
  },
  {
   "cell_type": "code",
   "execution_count": 18,
   "metadata": {},
   "outputs": [
    {
     "name": "stdout",
     "output_type": "stream",
     "text": [
      "67.9 in celsius is 19.94\n",
      "99.0 in celsius is 37.22\n",
      "56.9 in celsius is 13.83\n",
      "134.7 in celsius is 57.06\n",
      "678.9 in celsius is 359.39\n",
      "450.0 in celsius is 232.22\n"
     ]
    }
   ],
   "source": [
    "count = 0\n",
    "fahrenheit=[67.9,99.0,56.9,134.7,678.9,450.0]  #list of fahrenheit temperature\n",
    "for i in fahrenheit:\n",
    "    celsius = round((i- 32) * 5/9,2) #convert into celsius\n",
    "    print(i,'in celsius is',celsius)"
   ]
  },
  {
   "cell_type": "code",
   "execution_count": 22,
   "metadata": {},
   "outputs": [
    {
     "name": "stdout",
     "output_type": "stream",
     "text": [
      "coomon elements in both lists ['pwskills', 'datascience', 'mentor']\n"
     ]
    }
   ],
   "source": [
    "list1=['pwskills','fullstack datascience','pwskills batch','pro','datascience','mentor']\n",
    "list2=['fullstack','webdevelopment','pwskills','datascience','sudhanshu sir','mentor']\n",
    "list3=[]\n",
    "for i in list1:\n",
    "    for j in list2:\n",
    "        if i==j:\n",
    "            list3.append(j)\n",
    "print('coomon elements in both lists',list3)"
   ]
  },
  {
   "cell_type": "code",
   "execution_count": 24,
   "metadata": {},
   "outputs": [
    {
     "name": "stdout",
     "output_type": "stream",
     "text": [
      "Enter Number:7\n",
      "* \n",
      "* * \n",
      "* * * \n",
      "* * * * \n",
      "* * * * * \n",
      "* * * * * * \n",
      "* * * * * * * \n"
     ]
    }
   ],
   "source": [
    "num = int(input(\"Enter Number:\")) #taking number of rows\n",
    "for i in range(0, num):\n",
    "    for j in range(0, i+1):\n",
    "        print(\"*\", end=\" \")\n",
    "    print()"
   ]
  },
  {
   "cell_type": "code",
   "execution_count": 26,
   "metadata": {},
   "outputs": [
    {
     "name": "stdout",
     "output_type": "stream",
     "text": [
      "enter a number:30\n",
      "enter a number:20\n",
      "GCD of 20 and 30 is: 10\n"
     ]
    }
   ],
   "source": [
    "x =int(input('enter a number:'))\n",
    "y =int(input('enter a number:'))\n",
    "if x > y:\n",
    "    x,y = y, x\n",
    "for i in range(1,x+1):\n",
    "    if x%i == 0 and y%i == 0:\n",
    "        gcd = i\n",
    "print(\"GCD of\", x, \"and\", y, \"is:\", gcd)"
   ]
  },
  {
   "cell_type": "markdown",
   "metadata": {},
   "source": [
    "Advanced Level:\n",
    "21. Create a program that calculates the sum of the digits of numbers in a list using a list comprehension.\n",
    "\n",
    "22. Write a program to find the prime factors of a given number using a `for` loop and list comprehension.\n",
    "\n",
    "23. Develop a program that extracts unique elements from a list and stores them in a new list using a list\n",
    "comprehension.\n",
    "\n",
    "24. Create a program that generates a list of all palindromic numbers up to a specified limit using a list\n",
    "comprehension.\n",
    "\n",
    "25. Write a program to flatten a nested list using list comprehension.\n",
    "\n",
    "26. Develop a program that computes the sum of even and odd numbers in a list separately using list\n",
    "comprehension.\n",
    "\n",
    "27. Create a program that generates a list of squares of odd numbers between 1 and 10 using list\n",
    "comprehension.\n",
    "\n",
    "28. Write a program that combines two lists into a dictionary using list comprehension.\n",
    "\n",
    "29. Develop a program that extracts the vowels from a string and stores them in a list using list comprehension.\n",
    "\n",
    "30. Create a program that removes all non-numeric characters from a list of strings using list comprehension."
   ]
  },
  {
   "cell_type": "code",
   "execution_count": null,
   "metadata": {},
   "outputs": [],
   "source": [
    "# Define a function to calculate the sum of digits of a number\n",
    "def digit_sum(number):\n",
    "    return sum(int(digit) for digit in str(number))\n",
    "# Define a list of numbers\n",
    "numbers = [123, 456, 789]\n",
    "# Use a list comprehension to calculate the sum of digits for each number in the list\n",
    "digit_sums = [digit_sum(number) for number in numbers]\n",
    "# Print the results\n",
    "for i, number in enumerate(numbers):\n",
    "    print(f\"Number: {number}, Digit Sum: {digit_sums[i]}\")"
   ]
  },
  {
   "cell_type": "code",
   "execution_count": 10,
   "metadata": {},
   "outputs": [
    {
     "name": "stdout",
     "output_type": "stream",
     "text": [
      "Enter a number: 65\n",
      "Prime factors of 65: [5, 13]\n"
     ]
    }
   ],
   "source": [
    "def find_prime_factors(n):\n",
    "    factors = [factor for factor in range(2, n + 1) if n % factor == 0 and all(factor % i != 0 for i in range(2, factor))]\n",
    "    return factors\n",
    "def main():\n",
    "    num = int(input(\"Enter a number: \"))\n",
    "    if num < 2:\n",
    "        print(\"Prime factors are not applicable for numbers less than 2.\")\n",
    "    else:\n",
    "        prime_factors = find_prime_factors(num)\n",
    "        if prime_factors:\n",
    "            print(f\"Prime factors of {num}: {prime_factors}\")\n",
    "        else:\n",
    "            print(f\"{num} is a prime number and has no prime factors other than 1 and itself.\")\n",
    "\n",
    "if __name__ == \"__main__\":\n",
    "    main()"
   ]
  },
  {
   "cell_type": "code",
   "execution_count": 11,
   "metadata": {},
   "outputs": [
    {
     "name": "stdout",
     "output_type": "stream",
     "text": [
      "Original List: [1, 2, 2, 3, 4, 4, 5, 6, 6, 6]\n",
      "Unique Elements: [1, 2, 3, 4, 5, 6]\n"
     ]
    }
   ],
   "source": [
    "def main():\n",
    "    original_list = [1, 2, 2, 3, 4, 4, 5, 6, 6, 6]\n",
    "    # Use a list comprehension to extract unique elements\n",
    "    unique_elements = [x for i, x in enumerate(original_list) if x not in original_list[:i]] #where i is current index\n",
    "    print(\"Original List:\",original_list)\n",
    "    print(\"Unique Elements:\",unique_elements)\n",
    "if __name__ == \"__main__\":\n",
    "    main()"
   ]
  },
  {
   "cell_type": "code",
   "execution_count": 14,
   "metadata": {},
   "outputs": [
    {
     "name": "stdout",
     "output_type": "stream",
     "text": [
      "Enter the limit: 50\n",
      "Palindromic Numbers up to 50 : [1, 2, 3, 4, 5, 6, 7, 8, 9, 11, 22, 33, 44]\n"
     ]
    }
   ],
   "source": [
    "def is_palindrome(number):\n",
    "    # Function to check if a number is a palindrome\n",
    "    return str(number) == str(number)[::-1]\n",
    "def generate_palindromic_numbers(limit):\n",
    "    # Use a list comprehension to generate palindromic numbers up to the specified limit\n",
    "    palindromic_numbers = [num for num in range(1, limit + 1) if is_palindrome(num)]\n",
    "    return palindromic_numbers\n",
    "def main():\n",
    "    # Input: specify the limit\n",
    "    limit = int(input(\"Enter the limit: \"))\n",
    "    # Generate palindromic numbers using the function\n",
    "    palindromic_numbers = generate_palindromic_numbers(limit)\n",
    "    # Print the list of palindromic numbers\n",
    "    print(\"Palindromic Numbers up to\", limit, \":\", palindromic_numbers)\n",
    "if __name__ == \"__main__\":\n",
    "    main()\n"
   ]
  },
  {
   "cell_type": "code",
   "execution_count": 16,
   "metadata": {},
   "outputs": [
    {
     "name": "stdout",
     "output_type": "stream",
     "text": [
      "Original Nested List: [[1, 2, 3], [4, 5], [6, 7, 8, 9]]\n",
      "Flattened List: [1, 2, 3, 4, 5, 6, 7, 8, 9]\n"
     ]
    }
   ],
   "source": [
    "def flatten_nested_list(nested_list):\n",
    "    # Use a list comprehension to flatten the nested list\n",
    "    flattened_list = [item for sublist in nested_list for item in sublist]\n",
    "    return flattened_list\n",
    "def main():\n",
    "    # Sample nested list\n",
    "    nested_list = [[1, 2, 3], [4, 5], [6, 7, 8, 9]]\n",
    "    # Flatten the nested list using the function\n",
    "    flattened_list = flatten_nested_list(nested_list)\n",
    "    # Print the flattened list\n",
    "    print(\"Original Nested List:\", nested_list)\n",
    "    print(\"Flattened List:\", flattened_list)\n",
    "if __name__ == \"__main__\":\n",
    "    main()"
   ]
  },
  {
   "cell_type": "code",
   "execution_count": 17,
   "metadata": {},
   "outputs": [
    {
     "name": "stdout",
     "output_type": "stream",
     "text": [
      "Original List: [1, 2, 3, 4, 5, 6, 7, 8, 9]\n",
      "Sum of Even Numbers: 20\n",
      "Sum of Odd Numbers: 25\n"
     ]
    }
   ],
   "source": [
    "def separate_even_odd_sums(numbers):\n",
    "    # Use list comprehensions to compute the sum of even and odd numbers separately\n",
    "    even_sum = sum([num for num in numbers if num % 2 == 0])\n",
    "    odd_sum = sum([num for num in numbers if num % 2 != 0])\n",
    "    return even_sum, odd_sum\n",
    "def main():\n",
    "    # Sample list of numbers\n",
    "    numbers = [1, 2, 3, 4, 5, 6, 7, 8, 9]\n",
    "    # Calculate the sums of even and odd numbers using the function\n",
    "    even_sum, odd_sum = separate_even_odd_sums(numbers)\n",
    "    # Print the results\n",
    "    print(\"Original List:\", numbers)\n",
    "    print(\"Sum of Even Numbers:\", even_sum)\n",
    "    print(\"Sum of Odd Numbers:\", odd_sum)\n",
    "\n",
    "if __name__ == \"__main__\":\n",
    "    main()"
   ]
  },
  {
   "cell_type": "code",
   "execution_count": 18,
   "metadata": {},
   "outputs": [
    {
     "name": "stdout",
     "output_type": "stream",
     "text": [
      "Squares of Odd Numbers between 1 and 10: [1, 9, 25, 49, 81]\n"
     ]
    }
   ],
   "source": [
    "# Use list comprehension to generate a list of squares of odd numbers between 1 and 10\n",
    "squares_of_odd_numbers = [x ** 2 for x in range(1, 11) if x % 2 != 0]\n",
    "print(\"Squares of Odd Numbers between 1 and 10:\", squares_of_odd_numbers)\n"
   ]
  },
  {
   "cell_type": "code",
   "execution_count": 19,
   "metadata": {},
   "outputs": [
    {
     "name": "stdout",
     "output_type": "stream",
     "text": [
      "Combined Dictionary: {'a': 1, 'b': 2, 'c': 3}\n"
     ]
    }
   ],
   "source": [
    "#Write a program that combines two lists into a dictionary using list comprehension.\n",
    "# Sample lists\n",
    "keys = [\"a\", \"b\", \"c\"]\n",
    "values = [1, 2, 3]\n",
    "# Use list comprehension to combine the two lists into a dictionary\n",
    "combined_dict = {key: value for key, value in zip(keys, values)}\n",
    "print(\"Combined Dictionary:\", combined_dict)\n"
   ]
  },
  {
   "cell_type": "code",
   "execution_count": 20,
   "metadata": {},
   "outputs": [
    {
     "name": "stdout",
     "output_type": "stream",
     "text": [
      "Original String: Hello, World! This is a sample string.\n",
      "Vowels List: ['e', 'o', 'o', 'i', 'i', 'a', 'a', 'e', 'i']\n"
     ]
    }
   ],
   "source": [
    "# Function to check if a character is a vowel\n",
    "def is_vowel(char):\n",
    "    vowels = \"AEIOUaeiou\"\n",
    "    return char in vowels\n",
    "# Input string\n",
    "input_string = \"Hello, World! This is a sample string.\"\n",
    "# Use list comprehension to extract vowels from the string\n",
    "vowels_list = [char for char in input_string if is_vowel(char)]\n",
    "print(\"Original String:\", input_string)\n",
    "print(\"Vowels List:\", vowels_list)"
   ]
  },
  {
   "cell_type": "code",
   "execution_count": 22,
   "metadata": {},
   "outputs": [
    {
     "name": "stdout",
     "output_type": "stream",
     "text": [
      "Original List: ['abc123', '45def', '6ghi789', 'jkl0mno']\n",
      "Numeric Only List: ['123', '45', '6789', '0']\n"
     ]
    }
   ],
   "source": [
    "# List of strings\n",
    "string_list = [\"abc123\", \"45def\", \"6ghi789\", \"jkl0mno\"]\n",
    "# Use list comprehension to remove non-numeric characters from each string\n",
    "numeric_only_list = [''.join(filter(str.isdigit, string)) for string in string_list]\n",
    "print(\"Original List:\", string_list)\n",
    "print(\"Numeric Only List:\", numeric_only_list)\n"
   ]
  },
  {
   "cell_type": "markdown",
   "metadata": {},
   "source": [
    "Challenge Level:\n",
    "\n",
    "31. Write a program to generate a list of prime numbers using the Sieve of Eratosthenes algorithm and list\n",
    "comprehension.\n",
    "\n",
    "32. Create a program that generates a list of all Pythagorean triplets up to a specified limit using list\n",
    "comprehension.\n",
    "33. Develop a program that generates a list of all possible combinations of two lists using list comprehension.\n",
    "\n",
    "34. Write a program that calculates the mean, median, and mode of a list of numbers using list\n",
    "comprehension.\n",
    "\n",
    "35. Create a program that generates Pascal's triangle up to a specified number of rows using list\n",
    "comprehension.\n",
    "\n",
    "36. Develop a program that calculates the sum of the digits of a factorial of numbers from 1 to 5 using list\n",
    "comprehension.\n",
    "\n",
    "37. Write a program that finds the longest word in a sentence using list comprehension.\n",
    "\n",
    "38. Create a program that filters a list of strings to include only those with more than three vowels using list\n",
    "comprehension.\n",
    "\n",
    "39. Develop a program that calculates the sum of the digits of numbers from 1 to 1000 using list\n",
    "comprehension.\n",
    "\n",
    "40. Write a program that generates a list of prime palindromic numbers using list comprehension."
   ]
  },
  {
   "cell_type": "code",
   "execution_count": 23,
   "metadata": {},
   "outputs": [
    {
     "name": "stdout",
     "output_type": "stream",
     "text": [
      "Enter a limit to find prime numbers up to that limit: 50\n",
      "Prime numbers up to 50 are: [2, 3, 5, 7, 11, 13, 17, 19, 23, 29, 31, 37, 41, 43, 47]\n"
     ]
    }
   ],
   "source": [
    "def sieve_eratosthenes(limit):\n",
    "    sieve = [True] * (limit + 1)\n",
    "    sieve[0] = sieve[1] = False\n",
    "\n",
    "    for current in range(2, int(limit ** 0.5) + 1):\n",
    "        if sieve[current]:\n",
    "            for multiple in range(current * current, limit + 1, current):\n",
    "                sieve[multiple] = False\n",
    "\n",
    "    primes = [num for num, is_prime in enumerate(sieve) if is_prime]\n",
    "    return primes\n",
    "def main():\n",
    "    limit = int(input(\"Enter a limit to find prime numbers up to that limit: \"))\n",
    "    prime_numbers = sieve_eratosthenes(limit)\n",
    "    \n",
    "    print(\"Prime numbers up to\", limit, \"are:\", prime_numbers)\n",
    "if __name__ == \"__main__\":\n",
    "    main()\n"
   ]
  },
  {
   "cell_type": "code",
   "execution_count": 37,
   "metadata": {},
   "outputs": [
    {
     "name": "stdout",
     "output_type": "stream",
     "text": [
      "2\n",
      "3\n",
      "5\n",
      "7\n",
      "11\n",
      "13\n",
      "17\n",
      "19\n",
      "23\n",
      "29\n",
      "31\n",
      "37\n",
      "41\n",
      "43\n",
      "47\n",
      "53\n",
      "59\n",
      "61\n",
      "67\n",
      "71\n",
      "73\n",
      "79\n",
      "83\n",
      "89\n",
      "97\n",
      "None\n"
     ]
    }
   ],
   "source": [
    "def prime_eratosthenes(n):\n",
    "    prime_list = []\n",
    "    for i in range(2, n+1):\n",
    "        if i not in prime_list:\n",
    "            print (i)\n",
    "            for j in range(i*i, n+1, i):\n",
    "                prime_list.append(j)\n",
    "\n",
    "print(prime_eratosthenes(100));"
   ]
  },
  {
   "cell_type": "code",
   "execution_count": 24,
   "metadata": {},
   "outputs": [
    {
     "name": "stdout",
     "output_type": "stream",
     "text": [
      "Enter a limit to find Pythagorean triplets up to that limit: 10\n",
      "Pythagorean triplets up to 10 are: [(3, 4, 5), (6, 8, 10)]\n"
     ]
    }
   ],
   "source": [
    "def generate_pythagorean_triplets(limit):\n",
    "    triplets = [(a, b, c)\n",
    "                for a in range(1, limit + 1)\n",
    "                for b in range(a, limit + 1)\n",
    "                for c in range(b, limit + 1)\n",
    "                if a**2 + b**2 == c**2]\n",
    "    \n",
    "    return triplets\n",
    "\n",
    "def main():\n",
    "    limit = int(input(\"Enter a limit to find Pythagorean triplets up to that limit: \"))\n",
    "    pythagorean_triplets = generate_pythagorean_triplets(limit)\n",
    "    \n",
    "    print(\"Pythagorean triplets up to\", limit, \"are:\", pythagorean_triplets)\n",
    "\n",
    "if __name__ == \"__main__\":\n",
    "    main()\n"
   ]
  },
  {
   "cell_type": "code",
   "execution_count": 27,
   "metadata": {},
   "outputs": [
    {
     "name": "stdout",
     "output_type": "stream",
     "text": [
      "Combinations of list1 and list2:\n",
      "(1, 'a')\n",
      "(1, 'b')\n",
      "(1, 'c')\n",
      "(2, 'a')\n",
      "(2, 'b')\n",
      "(2, 'c')\n",
      "(3, 'a')\n",
      "(3, 'b')\n",
      "(3, 'c')\n",
      "______________________________________________________________\n",
      "List 1: [1, 2, 3]\n",
      "List 2: ['a', 'b', 'c']\n",
      "Combinations: [(1, 'a'), (1, 'b'), (1, 'c'), (2, 'a'), (2, 'b'), (2, 'c'), (3, 'a'), (3, 'b'), (3, 'c')]\n"
     ]
    }
   ],
   "source": [
    "# Sample lists\n",
    "from itertools import product\n",
    "list1 = [1, 2, 3]\n",
    "list2 = ['a', 'b', 'c']\n",
    "\n",
    "# Generate all possible combinations of elements from both lists\n",
    "combinations = [(item1, item2) for item1, item2 in product(list1, list2)]\n",
    "\n",
    "print(\"Combinations of list1 and list2:\")\n",
    "for combination in combinations:\n",
    "    print(combination)\n",
    "print('______________________________________________________________')\n",
    "# Sample lists\n",
    "list1 = [1, 2, 3]\n",
    "list2 = ['a', 'b', 'c']\n",
    "\n",
    "# Use list comprehension to generate all possible combinations of the two lists\n",
    "combinations = [(x, y) for x in list1 for y in list2]\n",
    "\n",
    "print(\"List 1:\", list1)\n",
    "print(\"List 2:\", list2)\n",
    "print(\"Combinations:\", combinations)"
   ]
  },
  {
   "cell_type": "code",
   "execution_count": 28,
   "metadata": {},
   "outputs": [
    {
     "name": "stdout",
     "output_type": "stream",
     "text": [
      "List of Numbers: [2, 4, 4, 4, 6, 8, 9]\n",
      "Mean: 5.285714285714286\n",
      "Median: 4.0\n",
      "Mode: 4\n"
     ]
    }
   ],
   "source": [
    "import statistics\n",
    "def calculate_statistics(numbers):\n",
    "    # Calculate the mean using list comprehension\n",
    "    mean = sum(numbers) / len(numbers)\n",
    "    # Calculate the median using list comprehension\n",
    "    sorted_numbers = sorted(numbers)\n",
    "    mid = len(numbers) // 2\n",
    "    median = (sorted_numbers[mid] + sorted_numbers[~mid]) / 2\n",
    "    # Calculate the mode using list comprehension and the statistics module\n",
    "    mode = statistics.mode(numbers)\n",
    "    return mean, median, mode\n",
    "def main():\n",
    "    # Sample list of numbers\n",
    "    numbers = [2, 4, 4, 4, 6, 8, 9]\n",
    "    mean, median, mode = calculate_statistics(numbers)\n",
    "    print(\"List of Numbers:\", numbers)\n",
    "    print(\"Mean:\", mean)\n",
    "    print(\"Median:\", median)\n",
    "    print(\"Mode:\", mode)\n",
    "if __name__ == \"__main__\":\n",
    "    main()\n"
   ]
  },
  {
   "cell_type": "code",
   "execution_count": 31,
   "metadata": {},
   "outputs": [
    {
     "name": "stdout",
     "output_type": "stream",
     "text": [
      "Enter the number of rows for Pascal's triangle: 6\n",
      "[1]\n",
      "[1, 1]\n",
      "[1, 2, 1]\n",
      "[1, 3, 3, 1]\n",
      "[1, 4, 6, 4, 1]\n",
      "[1, 5, 10, 10, 5, 1]\n"
     ]
    }
   ],
   "source": [
    "def generate_pascals_triangle(num_rows):\n",
    "    if num_rows <= 0:\n",
    "        return []\n",
    "\n",
    "    triangle = [[1]]\n",
    "    for _ in range(1, num_rows):\n",
    "        previous_row =triangle[-1]\n",
    "        new_row = [1] + [previous_row[i] + previous_row[i + 1] for i in range(len(previous_row) - 1)] + [1]\n",
    "        triangle.append(new_row)\n",
    "    return triangle\n",
    "def main():\n",
    "    num_rows = int(input(\"Enter the number of rows for Pascal's triangle: \"))\n",
    "    pascals_triangle = generate_pascals_triangle(num_rows)\n",
    "    for row in pascals_triangle:\n",
    "        print(row)\n",
    "if __name__ == \"__main__\":\n",
    "    main()"
   ]
  },
  {
   "cell_type": "code",
   "execution_count": 32,
   "metadata": {},
   "outputs": [
    {
     "name": "stdout",
     "output_type": "stream",
     "text": [
      "Factorial of 1: 1, Sum of digits: 1\n",
      "Factorial of 2: 2, Sum of digits: 2\n",
      "Factorial of 3: 6, Sum of digits: 6\n",
      "Factorial of 4: 24, Sum of digits: 6\n",
      "Factorial of 5: 120, Sum of digits: 3\n"
     ]
    }
   ],
   "source": [
    "def factorial(n):\n",
    "    if n == 0:\n",
    "        return 1\n",
    "    else:\n",
    "        return n * factorial(n - 1)\n",
    "def sum_of_digits(number):\n",
    "    return sum(int(digit) for digit in str(number))\n",
    "def main():\n",
    "    numbers = [1, 2, 3, 4, 5]  \n",
    "    factorial_results = [factorial(n) for n in numbers]\n",
    "    digit_sums = [sum_of_digits(factorial_result) for factorial_result in factorial_results]\n",
    "    for i in range(len(numbers)):\n",
    "        print(f\"Factorial of {numbers[i]}: {factorial_results[i]}, Sum of digits: {digit_sums[i]}\")\n",
    "if __name__ == \"__main__\":\n",
    "    main()\n"
   ]
  },
  {
   "cell_type": "code",
   "execution_count": 34,
   "metadata": {},
   "outputs": [
    {
     "name": "stdout",
     "output_type": "stream",
     "text": [
      "Enter a sentence: fullstack datascience pwskills\n",
      "Longest word in the sentence: datascience\n"
     ]
    }
   ],
   "source": [
    "def find_longest_word(sentence):\n",
    "    words = sentence.split()\n",
    "    longest_word = max(words, key=lambda word: len(word))\n",
    "    return longest_word\n",
    "\n",
    "def main():\n",
    "    input_sentence = input(\"Enter a sentence: \")\n",
    "    longest_word = find_longest_word(input_sentence)\n",
    "\n",
    "    print(\"Longest word in the sentence:\", longest_word)\n",
    "\n",
    "if __name__ == \"__main__\":\n",
    "    main()"
   ]
  },
  {
   "cell_type": "code",
   "execution_count": 35,
   "metadata": {},
   "outputs": [
    {
     "name": "stdout",
     "output_type": "stream",
     "text": [
      "Original List: ['hello', 'world', 'programming', 'python', 'education']\n",
      "Filtered Strings: ['education']\n"
     ]
    }
   ],
   "source": [
    "# Function to count the number of vowels in a string\n",
    "def count_vowels(string):\n",
    "    vowels = \"AEIOUaeiou\"\n",
    "    return sum(1 for char in string if char in vowels)\n",
    "def filter_strings_with_more_than_three_vowels(string_list):\n",
    "    # Use list comprehension to filter strings with more than three vowels\n",
    "    filtered_strings = [string for string in string_list if count_vowels(string) > 3]\n",
    "    return filtered_strings\n",
    "def main():\n",
    "    # Sample list of strings\n",
    "    string_list = [\"hello\", \"world\", \"programming\", \"python\", \"education\"]\n",
    "    # Filter strings with more than three vowels using the function\n",
    "    filtered_strings = filter_strings_with_more_than_three_vowels(string_list)\n",
    "    # Print the filtered strings\n",
    "    print(\"Original List:\", string_list)\n",
    "    print(\"Filtered Strings:\", filtered_strings)\n",
    "if __name__ == \"__main__\":\n",
    "    main()\n"
   ]
  },
  {
   "cell_type": "code",
   "execution_count": 36,
   "metadata": {},
   "outputs": [
    {
     "name": "stdout",
     "output_type": "stream",
     "text": [
      "Total sum of digits for numbers from 1 to 1000: 13501\n"
     ]
    }
   ],
   "source": [
    "# Function to calculate the sum of the digits of a number\n",
    "def sum_of_digits(number):\n",
    "    return sum(int(digit) for digit in str(number))\n",
    "\n",
    "# Use list comprehension to calculate the sum of digits for numbers from 1 to 1000\n",
    "digit_sums = [sum_of_digits(num) for num in range(1, 1001)]\n",
    "\n",
    "# Calculate the total sum of digit sums\n",
    "total_sum = sum(digit_sums)\n",
    "\n",
    "print(\"Total sum of digits for numbers from 1 to 1000:\", total_sum)\n"
   ]
  },
  {
   "cell_type": "code",
   "execution_count": 37,
   "metadata": {},
   "outputs": [
    {
     "name": "stdout",
     "output_type": "stream",
     "text": [
      "Prime Palindromic Numbers: [2, 3, 5, 7, 11, 101, 131, 151, 181, 191, 313, 353, 373, 383, 727, 757, 787, 797, 919, 929]\n"
     ]
    }
   ],
   "source": [
    "def is_palindrome(number):\n",
    "    return str(number) == str(number)[::-1]\n",
    "\n",
    "def is_prime(number):\n",
    "    if number <= 1:\n",
    "        return False\n",
    "    if number <= 3:\n",
    "        return True\n",
    "    if number % 2 == 0 or number % 3 == 0:\n",
    "        return False\n",
    "    i = 5\n",
    "    while i * i <= number:\n",
    "        if number % i == 0 or number % (i + 2) == 0:\n",
    "            return False\n",
    "        i += 6\n",
    "    return True\n",
    "\n",
    "# Use list comprehension to generate a list of prime palindromic numbers\n",
    "prime_palindromic_numbers = [num for num in range(1, 1000) if is_prime(num) and is_palindrome(num)]\n",
    "\n",
    "print(\"Prime Palindromic Numbers:\", prime_palindromic_numbers)\n"
   ]
  }
 ],
 "metadata": {
  "kernelspec": {
   "display_name": "Python 3",
   "language": "python",
   "name": "python3"
  },
  "language_info": {
   "codemirror_mode": {
    "name": "ipython",
    "version": 3
   },
   "file_extension": ".py",
   "mimetype": "text/x-python",
   "name": "python",
   "nbconvert_exporter": "python",
   "pygments_lexer": "ipython3",
   "version": "3.7.3"
  }
 },
 "nbformat": 4,
 "nbformat_minor": 2
}
